{
 "cells": [
  {
   "cell_type": "code",
   "execution_count": 22,
   "metadata": {},
   "outputs": [
    {
     "name": "stdout",
     "output_type": "stream",
     "text": [
      "다운로드 링크: javascript:Jnit_boardDownload('/board/file/bbs_0000000000000037/850/FILE_000000100026019/75f36512a4e860afa','/board/ajax/file/downloadCount.do?fileId=FILE_000000100026019%27,%271%27);\n",
      "다운로드 링크: https://www.mpm.go.kr/flexer/index.jsp?FileDir=bbs_0000000000000037/20230529&SystemFileName=75f36512a4e860afa.pdf&FileName=2014%EB%85%84+%EA%B5%AD%EA%B0%80%EA%B3%B5%EB%AC%B4%EC%9B%90+%EC%9D%B8%EC%82%AC%ED%86%B5%EA%B3%84%28%EC%A0%84%EC%B2%B4%29.pdf&ftype=pdf\n"
     ]
    }
   ],
   "source": [
    "from selenium import webdriver\n",
    "from selenium.webdriver.common.by import By\n",
    "import time\n",
    "\n",
    "# 웹드라이버 실행\n",
    "driver = webdriver.Chrome()\n",
    "\n",
    "# 크롤링할 기본 URL\n",
    "url = \"https://www.mpm.go.kr/mpm/lawStat/infoStatistics/hrStatistics/statisticsAnnual/?mode=list&boardId=bbs_0000000000000037&pageIdx=14&searchCondition=all&searchKeyword=+&pageIdx=1&category=\"\n",
    "driver.get(url)\n",
    "\n",
    "# 페이지 로딩 대기\n",
    "time.sleep(3)\n",
    "\n",
    "# 'title' 클래스가 있는 td 태그 안의 모든 링크를 찾음\n",
    "links = driver.find_elements(By.CSS_SELECTOR, \"td.title a\")\n",
    "\n",
    "# 각 링크를 순회하며 파일 다운로드\n",
    "for link in links:\n",
    "    # 링크 클릭하여 해당 페이지로 이동\n",
    "    href = link.get_attribute('href')\n",
    "    driver.get(href)\n",
    "\n",
    "    # 페이지 로딩 대기\n",
    "    time.sleep(3)\n",
    "\n",
    "    # 모든 'span.file' 요소 내의 'a' 태그를 찾음\n",
    "    try:\n",
    "        download_link_elements = driver.find_elements(By.CSS_SELECTOR, \"span.file a\")\n",
    "        \n",
    "        for download_link_element in download_link_elements:\n",
    "            download_link = download_link_element.get_attribute('href')\n",
    "            \n",
    "            # 다운로드 링크 출력\n",
    "            print(f\"다운로드 링크: {download_link}\")\n",
    "            \n",
    "            if download_link:\n",
    "                # 다운로드 링크 클릭\n",
    "                download_link_element.click()\n",
    "                # 파일이 다운로드될 시간을 기다림\n",
    "                time.sleep(5)  # 다운로드 속도에 따라 조정 필요\n",
    "            else:\n",
    "                print(\"다운로드 링크가 존재하지 않습니다.\")\n",
    "    except Exception as e:\n",
    "        print(f\"오류 발생: {e}\")\n",
    "    \n",
    "    # 이전 페이지로 돌아가기\n",
    "    driver.back()\n",
    "\n",
    "    # 페이지 로딩 대기\n",
    "    time.sleep(3)\n",
    "\n",
    "# 웹드라이버 종료\n",
    "driver.quit()\n"
   ]
  }
 ],
 "metadata": {
  "kernelspec": {
   "display_name": "Python (myenv)",
   "language": "python",
   "name": "myenv"
  },
  "language_info": {
   "codemirror_mode": {
    "name": "ipython",
    "version": 3
   },
   "file_extension": ".py",
   "mimetype": "text/x-python",
   "name": "python",
   "nbconvert_exporter": "python",
   "pygments_lexer": "ipython3",
   "version": "3.11.5"
  },
  "orig_nbformat": 4
 },
 "nbformat": 4,
 "nbformat_minor": 2
}
